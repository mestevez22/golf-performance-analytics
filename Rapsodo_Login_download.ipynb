{
 "cells": [
  {
   "cell_type": "code",
   "execution_count": 10,
   "id": "7268ae1f-cbde-400d-b7de-129f189d5f96",
   "metadata": {
    "tags": []
   },
   "outputs": [],
   "source": [
    "from selenium import webdriver\n",
    "from bs4 import BeautifulSoup\n",
    "from time import sleep\n",
    "from selenium.webdriver.support.ui import Select\n",
    "from selenium.webdriver.common.by import By\n",
    "from selenium.webdriver.support.ui import WebDriverWait\n",
    "from selenium.webdriver.support import expected_conditions as EC\n",
    "from selenium.common.exceptions import StaleElementReferenceException\n",
    "from selenium.common.exceptions import NoSuchElementException\n",
    "import datetime\n",
    "import time\n"
   ]
  },
  {
   "cell_type": "code",
   "execution_count": 11,
   "id": "6708f193-15cf-4999-8e4c-045e3e4a1ebd",
   "metadata": {
    "tags": []
   },
   "outputs": [],
   "source": [
    "#function to login into rapsodo, where practice sessions are loggged\n",
    "\n",
    "def login(email, password):\n",
    "\n",
    "    # Initialize Chrome webdriver \n",
    "    #driver = webdriver.Chrome()\n",
    "\n",
    "    # Open the website\n",
    "    driver.get('https://golf-cloud.rapsodo.com/')\n",
    "    #wait = WebDriverWait(driver, 15)\n",
    "\n",
    "    # Wait for the email input field to be visible\n",
    "    email_input = wait.until(EC.presence_of_element_located((By.ID, 'login-email')))\n",
    "    # Input email\n",
    "    email_input.send_keys(email)\n",
    "\n",
    "    # Input password\n",
    "    password_input = wait.until(EC.presence_of_element_located((By.ID, 'login-password')))\n",
    "    password_input.send_keys(password)\n",
    "\n",
    "    # Click submit button\n",
    "    submit_button = wait.until(EC.element_to_be_clickable((By.XPATH, '//*[@id=\"login-button\"]')))\n",
    "    submit_button.click()\n",
    "    \n",
    "    print(\"Login successful\")\n",
    "    \n",
    "    #click onto sessions icon\n",
    "    try:\n",
    "        click_sessions = wait.until(EC.element_to_be_clickable((By.XPATH, '//*[@id=\"root\"]/div[1]/div/div[1]/div[2]/div/a[2]/div/div[1]'))).click()\n",
    "        #sessions_button.click()\n",
    "        print('Clicked on Sessions')\n",
    "\n",
    "    except:\n",
    "        print('Either element was not found, or Bot could not click on it.')\n",
    "        pass\n",
    "    \n",
    "    ###sessions table###\n",
    "    wait.until(EC.presence_of_element_located((By.CLASS_NAME, \"session-page\")))\n",
    "    \n",
    "    \n",
    "    #while(True):\n",
    "     #   pass\n",
    "    #return driver\n"
   ]
  },
  {
   "cell_type": "code",
   "execution_count": 12,
   "id": "a7db1bef-0f7c-4d6d-8ce4-b6e2ebcc9ad8",
   "metadata": {},
   "outputs": [],
   "source": [
    "#function to find elements \n",
    "def find_session_rows():\n",
    "    session_rows = driver.find_elements(By.CSS_SELECTOR, \"div.sc-fLseNd.goIziV.rdt_TableBody > div\")\n",
    "    return session_rows\n"
   ]
  },
  {
   "cell_type": "code",
   "execution_count": 14,
   "id": "ce94c9e7-f246-4bb1-93a7-cf9ff54e1898",
   "metadata": {
    "tags": []
   },
   "outputs": [
    {
     "name": "stdout",
     "output_type": "stream",
     "text": [
      "Login successful\n",
      "Either element was not found, or Bot could not click on it.\n"
     ]
    },
    {
     "ename": "IndexError",
     "evalue": "list index out of range",
     "output_type": "error",
     "traceback": [
      "\u001b[0;31m---------------------------------------------------------------------------\u001b[0m",
      "\u001b[0;31mIndexError\u001b[0m                                Traceback (most recent call last)",
      "Cell \u001b[0;32mIn[14], line 17\u001b[0m\n\u001b[1;32m     15\u001b[0m elements \u001b[38;5;241m=\u001b[39m find_session_rows()\n\u001b[1;32m     16\u001b[0m \u001b[38;5;66;03m#print(elements[i])\u001b[39;00m\n\u001b[0;32m---> 17\u001b[0m date_text \u001b[38;5;241m=\u001b[39m elements[i]\u001b[38;5;241m.\u001b[39mfind_element(By\u001b[38;5;241m.\u001b[39mCSS_SELECTOR, \u001b[38;5;124m'\u001b[39m\u001b[38;5;124mtime\u001b[39m\u001b[38;5;124m'\u001b[39m)\u001b[38;5;241m.\u001b[39mtext\n\u001b[1;32m     18\u001b[0m \u001b[38;5;66;03m#print(date_text)\u001b[39;00m\n\u001b[1;32m     19\u001b[0m date \u001b[38;5;241m=\u001b[39m datetime\u001b[38;5;241m.\u001b[39mdatetime\u001b[38;5;241m.\u001b[39mstrptime(date_text, \u001b[38;5;124m\"\u001b[39m\u001b[38;5;124m%\u001b[39m\u001b[38;5;124mm/\u001b[39m\u001b[38;5;132;01m%d\u001b[39;00m\u001b[38;5;124m/\u001b[39m\u001b[38;5;124m%\u001b[39m\u001b[38;5;124my\u001b[39m\u001b[38;5;124m\"\u001b[39m)\n",
      "\u001b[0;31mIndexError\u001b[0m: list index out of range"
     ]
    }
   ],
   "source": [
    "driver = webdriver.Chrome()\n",
    "wait = WebDriverWait(driver, 10)\n",
    "email = '********'\n",
    "password = '*********'\n",
    "login(email, password)\n",
    "\n",
    "target_date = datetime.datetime(2024, 5, 31)\n",
    "session_page = wait.until(EC.presence_of_element_located((By.CSS_SELECTOR, \"div.sc-hzhKNl.jgilmI.rdt_TableBody\")))\n",
    "elements = driver.find_elements(By.CSS_SELECTOR, 'div.sc-hzhKNl.jgilmI.rdt_TableBody > div')\n",
    "dates =[]\n",
    "\n",
    "#root > div.content > div > div > div.data-table-container.session > div > div.data-table-container.session > div > div > div > div.sc-hzhKNl.jgilmI.rdt_TableBody\n",
    "for i in range(len(elements)):\n",
    "    time.sleep(2)\n",
    "    elements = find_session_rows()\n",
    "    #print(elements[i])\n",
    "    date_text = elements[i].find_element(By.CSS_SELECTOR, 'time').text\n",
    "    #print(date_text)\n",
    "    date = datetime.datetime.strptime(date_text, \"%m/%d/%y\")\n",
    "    dates.append(date)\n",
    "    \n",
    "    if date > target_date:\n",
    "        view_link = elements[i].find_element(By.CLASS_NAME, 'table-link-container')\n",
    "        #print(view_link)\n",
    "        view_link.click()\n",
    "        print(f'{date} link clicked')\n",
    "        \n",
    "        #export csv\n",
    "        wait.until(EC.presence_of_element_located((By.XPATH, '//*[@id=\"export-button\"]')))\n",
    "        driver.maximize_window()\n",
    "\n",
    "        export_button = wait.until(EC.element_to_be_clickable((By.XPATH, '//*[@id=\"export-button\"]')))\n",
    "        export_button.click()\n",
    "        #driver.execute_script(\"arguments[0].click();\", export_button)\n",
    "        print(f' {date} csv exported')\n",
    "        time.sleep(10)\n",
    "        driver.back()\n",
    "        time.sleep(3)\n"
   ]
  },
  {
   "cell_type": "code",
   "execution_count": 15,
   "id": "ec31bce4-2ea6-48ba-976b-5480e9c1fd2a",
   "metadata": {
    "tags": []
   },
   "outputs": [
    {
     "name": "stdout",
     "output_type": "stream",
     "text": [
      "Moved mlm2pro_shotexport_072424.csv to Desktop.\n",
      "Moved mlm2pro_shotexport_062724.csv to Desktop.\n",
      "Moved mlm2pro_shotexport_062524.csv to Desktop.\n",
      "Moved mlm2pro_shotexport_062124.csv to Desktop.\n",
      "Moved mlm2pro_shotexport_062024.csv to Desktop.\n",
      "Moved mlm2pro_shotexport_061924.csv to Desktop.\n",
      "Moved mlm2pro_shotexport_060624 (1).csv to Desktop.\n",
      "Moved mlm2pro_shotexport_060624.csv to Desktop.\n",
      "Moved mlm2pro_shotexport_053124.csv to Desktop.\n",
      "Moved mlm2pro_shotexport_042724 (7).csv to Desktop.\n",
      "Moved mlm2pro_shotexport_042424.csv to Desktop.\n",
      "Moved mlm2pro_shotexport_041824 (1).csv to Desktop.\n",
      "Moved mlm2pro_shotexport_041024 (3).csv to Desktop.\n",
      "Moved mlm2pro_shotexport_040524 (1).csv to Desktop.\n",
      "Moved mlm2pro_shotexport_031524 (1).csv to Desktop.\n",
      "Moved mlm2pro_shotexport_030524 (3).csv to Desktop.\n",
      "Moved mlm2pro_shotexport_030524 (2).csv to Desktop.\n",
      "Moved mlm2pro_shotexport_030124 (1).csv to Desktop.\n",
      "Moved mlm2pro_shotexport_022924 (1).csv to Desktop.\n",
      "Moved mlm2pro_shotexport_022724 (3).csv to Desktop.\n",
      "Moved mlm2pro_shotexport_022724 (2).csv to Desktop.\n",
      "Moved mlm2pro_shotexport_022624 (1).csv to Desktop.\n",
      "Moved mlm2pro_shotexport_022424 (1).csv to Desktop.\n",
      "Moved mlm2pro_shotexport_022224 (1).csv to Desktop.\n",
      "Moved mlm2pro_shotexport_022024 (2).csv to Desktop.\n",
      "Moved mlm2pro_shotexport_021724 (4).csv to Desktop.\n",
      "Moved mlm2pro_shotexport_021724 (3).csv to Desktop.\n",
      "Moved mlm2pro_shotexport_020824 (1).csv to Desktop.\n",
      "Moved mlm2pro_shotexport_020624 (3).csv to Desktop.\n",
      "Moved mlm2pro_shotexport_020624 (2).csv to Desktop.\n",
      "Moved mlm2pro_shotexport_013024 (2).csv to Desktop.\n"
     ]
    }
   ],
   "source": [
    "\n",
    "### retrieving recent downloads and moving to desktop###\n",
    "import os\n",
    "import shutil\n",
    "from pathlib import Path\n",
    "\n",
    "# Path to the Downloads folder and Desktop folder\n",
    "downloads_folder = Path(\"~/Downloads\").expanduser()\n",
    "desktop_folder = Path(\"~/Desktop\").expanduser()\n",
    "\n",
    "# Get a list of all files in the Downloads folder\n",
    "files = [f for f in downloads_folder.iterdir() if f.is_file()]\n",
    "\n",
    "# Sort files by modification time (recent first)\n",
    "files.sort(key=lambda x: x.stat().st_mtime, reverse=True)\n",
    "\n",
    "# Take the last x recent files\n",
    "recent_files = files[:31]\n",
    "\n",
    "# Move each recent file to the Desktop folder\n",
    "for file in recent_files:\n",
    "    shutil.move(str(file), str(desktop_folder / file.name))\n",
    "    print(f\"Moved {file.name} to Desktop.\")\n"
   ]
  },
  {
   "cell_type": "code",
   "execution_count": 16,
   "id": "f84a83ef-12d6-4e40-afa1-9843d93c73e9",
   "metadata": {
    "tags": []
   },
   "outputs": [],
   "source": [
    "#function to add shot type\n",
    "def add_shot(x):\n",
    "    if x['Launch Direction'] > -1.5 and x['Launch Direction'] < 1.5: \n",
    "        return 'Straight'\n",
    "    elif x['Launch Direction'] < -1.5: \n",
    "        return 'Left'\n",
    "    else: \n",
    "        return 'Right'"
   ]
  },
  {
   "cell_type": "code",
   "execution_count": 17,
   "id": "2d91b787-d9f1-4c44-8b77-0c3595fab97e",
   "metadata": {
    "tags": []
   },
   "outputs": [],
   "source": [
    "#function to clean DFs\n",
    "def clean_pd(df):\n",
    "    clean = df.copy()\n",
    "    clean = clean.dropna()\n",
    "    clean = clean.drop(clean[clean.iloc[:, 0] == 'Club Type'].index).reset_index(drop = True)\n",
    "    clean['Launch Direction'] = clean['Launch Direction'].astype(float)\n",
    "    clean['Shot Type'] = clean.apply(add_shot, axis =1)\n",
    "    return clean \n"
   ]
  },
  {
   "cell_type": "code",
   "execution_count": 18,
   "id": "0d77ff2d-b5da-426f-a04f-e101566e6cb6",
   "metadata": {
    "tags": []
   },
   "outputs": [
    {
     "name": "stdout",
     "output_type": "stream",
     "text": [
      "Merged 31 recent CSV files after cleaning into /Users/margiselleestevez/Desktop/Golf Stats Master.csv.\n"
     ]
    }
   ],
   "source": [
    "import pandas as pd\n",
    "#### merging recently downloaded sessions into master file###\n",
    "\n",
    "# Define paths to Desktop folder and master file\n",
    "desktop_folder = Path(\"~/Desktop\").expanduser()\n",
    "master_file = desktop_folder / \"Golf Stats Master.csv\"\n",
    "\n",
    "# Get a list of all CSV files on the Desktop\n",
    "csv_files = [f for f in desktop_folder.iterdir() if f.is_file() and f.suffix == \".csv\"]\n",
    "\n",
    "# Sort CSV files by modification time (recent first)\n",
    "csv_files.sort(key=lambda x: x.stat().st_mtime, reverse=True)\n",
    "\n",
    "# Take the last x recent CSV files\n",
    "recent_csv_files = csv_files[:31]\n",
    "\n",
    "# Clean and merge recent CSV files into the master file\n",
    "if master_file.exists():\n",
    "    # Read the master file\n",
    "    master_df = pd.read_csv(master_file)\n",
    "else:\n",
    "    # Create an empty DataFrame if master file doesn't exist\n",
    "    master_df = pd.DataFrame()\n",
    "\n",
    "# Apply the clean_df function to each recent CSV file\n",
    "for csv_file in recent_csv_files:\n",
    "    df = pd.read_csv(csv_file, header = 1)\n",
    "    #print(df.columns)\n",
    "    df = clean_pd(df)  # Apply cleaning function\n",
    "    master_df = pd.concat([master_df, df], ignore_index=True)\n",
    "\n",
    "# Write the merged data to the master file, overwriting it\n",
    "master_df.to_csv(master_file, index=False)\n",
    "\n",
    "print(f\"Merged {len(recent_csv_files)} recent CSV files after cleaning into {master_file}.\")\n"
   ]
  },
  {
   "cell_type": "code",
   "execution_count": null,
   "id": "aa058443-066b-41d3-848f-12c4991dcb42",
   "metadata": {},
   "outputs": [],
   "source": []
  }
 ],
 "metadata": {
  "kernelspec": {
   "display_name": "Python 3 (ipykernel)",
   "language": "python",
   "name": "python3"
  },
  "language_info": {
   "codemirror_mode": {
    "name": "ipython",
    "version": 3
   },
   "file_extension": ".py",
   "mimetype": "text/x-python",
   "name": "python",
   "nbconvert_exporter": "python",
   "pygments_lexer": "ipython3",
   "version": "3.11.5"
  }
 },
 "nbformat": 4,
 "nbformat_minor": 5
}
